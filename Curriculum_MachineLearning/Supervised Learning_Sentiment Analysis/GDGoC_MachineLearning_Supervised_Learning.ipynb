{
  "cells": [
    {
      "cell_type": "markdown",
      "metadata": {
        "id": "8vnxcxelPiLG"
      },
      "source": [
        "# Pengambilan keputusan dengan pemrograman tradisional"
      ]
    },
    {
      "cell_type": "code",
      "execution_count": null,
      "metadata": {
        "id": "bi82h4EQPWRq"
      },
      "outputs": [],
      "source": [
        "# Daftar kata positif dan negatif\n",
        "positive_words = [\"baik\", \"bagus\", \"luar biasa\", \"hebat\", \"menyenangkan\", \"suka\"]\n",
        "negative_words = [\"buruk\", \"jelek\", \"menyedihkan\", \"benci\", \"kecewa\", \"payah\"]\n",
        "\n",
        "def analyze_sentiment(text):\n",
        "    text = text.lower()\n",
        "    pos_count = sum(1 for word in positive_words if word in text)\n",
        "    neg_count = sum(1 for word in negative_words if word in text)\n",
        "\n",
        "    if pos_count > neg_count:\n",
        "        return \"Positif\"\n",
        "    elif neg_count > pos_count:\n",
        "        return \"Negatif\"\n",
        "    else:\n",
        "        return \"Netral\"\n",
        "\n",
        "# Contoh penggunaan\n",
        "text = \"Saya sangat suka film ini, luar biasa!\"\n",
        "print(analyze_sentiment(text))  # Output: Positif"
      ]
    },
    {
      "cell_type": "markdown",
      "metadata": {
        "id": "l-tIlX0fUwqL"
      },
      "source": [
        "# Pengambilan keputusan dengan machine learning"
      ]
    },
    {
      "cell_type": "code",
      "execution_count": null,
      "metadata": {
        "id": "hyNICg47QZyI"
      },
      "outputs": [],
      "source": [
        "import pandas as pd\n",
        "from sklearn.feature_extraction.text import CountVectorizer\n",
        "from sklearn.naive_bayes import MultinomialNB\n",
        "\n",
        "# Membaca data dari file CSV\n",
        "file_path = \"data_sentimen.csv\"  # Ganti dengan lokasi file Anda\n",
        "df = pd.read_csv(file_path)\n",
        "\n",
        "# Memisahkan teks dan label\n",
        "texts = df[\"teks\"].values\n",
        "labels = df[\"label\"].values\n",
        "\n",
        "# Konversi teks menjadi fitur numerik\n",
        "vectorizer = CountVectorizer()\n",
        "X = vectorizer.fit_transform(texts)\n",
        "\n",
        "# Training model Naive Bayes\n",
        "model = MultinomialNB()\n",
        "model.fit(X, labels)\n",
        "\n",
        "# Contoh prediksi dari input baru\n",
        "test_text = [\"film ini sangat tidak bagus\"]\n",
        "test_X = vectorizer.transform(test_text)\n",
        "print(\"Hasil Analisis Machine Learning:\", model.predict(test_X)[0])"
      ]
    },
    {
      "cell_type": "markdown",
      "metadata": {
        "id": "Qk-gmuwoWQ9Q"
      },
      "source": [
        "# Model machine learning multilingual sentiment"
      ]
    },
    {
      "cell_type": "code",
      "execution_count": null,
      "metadata": {
        "colab": {
          "base_uri": "https://localhost:8080/"
        },
        "id": "Z7uvDneXWQKj",
        "outputId": "dbc09c6f-bd8f-4f10-c8f1-e5ccea42150c"
      },
      "outputs": [],
      "source": [
        "from transformers import AutoTokenizer, AutoModelForSequenceClassification\n",
        "import torch\n",
        "\n",
        "model_name = \"tabularisai/multilingual-sentiment-analysis\"\n",
        "tokenizer = AutoTokenizer.from_pretrained(model_name)\n",
        "model = AutoModelForSequenceClassification.from_pretrained(model_name)\n",
        "\n",
        "def predict_sentiment(texts):\n",
        "    inputs = tokenizer(texts, return_tensors=\"pt\", truncation=True, padding=True, max_length=512)\n",
        "    with torch.no_grad():\n",
        "        outputs = model(**inputs)\n",
        "    probabilities = torch.nn.functional.softmax(outputs.logits, dim=-1)\n",
        "    sentiment_map = {0: \"Very Negative\", 1: \"Negative\", 2: \"Neutral\", 3: \"Positive\", 4: \"Very Positive\"}\n",
        "    return [sentiment_map[p] for p in torch.argmax(probabilities, dim=-1).tolist()]\n",
        "\n",
        "texts = [\n",
        "    # English\n",
        "    \"I absolutely love the new design of this app!\",\n",
        "    \"The customer service was disappointing.\",\n",
        "    \"The weather is fine, nothing special.\",\n",
        "    # Malay\n",
        "    \"Saya suka makanan di sini, sangat sedap!\",\n",
        "    \"Pengalaman ini sangat mengecewakan.\",\n",
        "    \"Hari ini cuacanya biasa sahaja.\",\n",
        "    # Indonesian\n",
        "    \"Saya tidak suka film ini\"\n",
        "]\n",
        "\n",
        "for text, sentiment in zip(texts, predict_sentiment(texts)):\n",
        "    print(f\"Text: {text}\\nSentiment: {sentiment}\\n\")\n"
      ]
    }
  ],
  "metadata": {
    "colab": {
      "provenance": []
    },
    "kernelspec": {
      "display_name": "Python 3",
      "name": "python3"
    },
    "language_info": {
      "name": "python"
    }
  },
  "nbformat": 4,
  "nbformat_minor": 0
}
